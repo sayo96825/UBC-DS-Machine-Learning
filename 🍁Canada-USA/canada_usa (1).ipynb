{
 "cells": [
  {
   "cell_type": "markdown",
   "id": "9362c609-29c5-4ba4-b4c1-246e5865c496",
   "metadata": {},
   "source": [
    "`conda install scipy` / `pip install scipy`"
   ]
  },
  {
   "cell_type": "code",
   "execution_count": 152,
   "id": "b6583392-1fa3-418f-ac45-2cea16ca36c2",
   "metadata": {},
   "outputs": [],
   "source": [
    "import pandas as pd\n",
    "import numpy as np\n",
    "import scipy\n",
    "import altair as alt\n",
    "from sklearn.model_selection import train_test_split \n",
    "from sklearn.tree import DecisionTreeClassifier\n",
    "from sklearn.neighbors import KNeighborsClassifier\n",
    "from sklearn.model_selection import cross_val_score\n",
    "from sklearn.model_selection import cross_validate\n",
    "from sklearn.metrics.pairwise import euclidean_distances\n",
    "\n",
    "from sklearn.model_selection import GridSearchCV\n",
    "from sklearn.svm import SVC\n",
    "\n",
    "from sklearn.pipeline import Pipeline, make_pipeline\n",
    "\n",
    "from sklearn.impute import SimpleImputer\n",
    "from sklearn.preprocessing import StandardScaler\n",
    "from sklearn.model_selection import RandomizedSearchCV"
   ]
  },
  {
   "cell_type": "code",
   "execution_count": 153,
   "id": "624c85eb-d1d9-4c12-808b-8640f1141529",
   "metadata": {},
   "outputs": [],
   "source": [
    "cities_df = pd.read_csv('canada_usa_cities.csv')"
   ]
  },
  {
   "cell_type": "code",
   "execution_count": 154,
   "id": "789540a5-8750-4de1-b46a-485adf3d553d",
   "metadata": {},
   "outputs": [
    {
     "data": {
      "text/html": [
       "<div>\n",
       "<style scoped>\n",
       "    .dataframe tbody tr th:only-of-type {\n",
       "        vertical-align: middle;\n",
       "    }\n",
       "\n",
       "    .dataframe tbody tr th {\n",
       "        vertical-align: top;\n",
       "    }\n",
       "\n",
       "    .dataframe thead th {\n",
       "        text-align: right;\n",
       "    }\n",
       "</style>\n",
       "<table border=\"1\" class=\"dataframe\">\n",
       "  <thead>\n",
       "    <tr style=\"text-align: right;\">\n",
       "      <th></th>\n",
       "      <th>longitude</th>\n",
       "      <th>latitude</th>\n",
       "      <th>country</th>\n",
       "    </tr>\n",
       "  </thead>\n",
       "  <tbody>\n",
       "    <tr>\n",
       "      <th>0</th>\n",
       "      <td>-130.0437</td>\n",
       "      <td>55.9773</td>\n",
       "      <td>USA</td>\n",
       "    </tr>\n",
       "    <tr>\n",
       "      <th>1</th>\n",
       "      <td>-134.4197</td>\n",
       "      <td>58.3019</td>\n",
       "      <td>USA</td>\n",
       "    </tr>\n",
       "    <tr>\n",
       "      <th>2</th>\n",
       "      <td>-123.0780</td>\n",
       "      <td>48.9854</td>\n",
       "      <td>USA</td>\n",
       "    </tr>\n",
       "    <tr>\n",
       "      <th>3</th>\n",
       "      <td>-122.7436</td>\n",
       "      <td>48.9881</td>\n",
       "      <td>USA</td>\n",
       "    </tr>\n",
       "    <tr>\n",
       "      <th>4</th>\n",
       "      <td>-122.2691</td>\n",
       "      <td>48.9951</td>\n",
       "      <td>USA</td>\n",
       "    </tr>\n",
       "  </tbody>\n",
       "</table>\n",
       "</div>"
      ],
      "text/plain": [
       "   longitude  latitude country\n",
       "0  -130.0437   55.9773     USA\n",
       "1  -134.4197   58.3019     USA\n",
       "2  -123.0780   48.9854     USA\n",
       "3  -122.7436   48.9881     USA\n",
       "4  -122.2691   48.9951     USA"
      ]
     },
     "execution_count": 154,
     "metadata": {},
     "output_type": "execute_result"
    }
   ],
   "source": [
    "cities_df.head()"
   ]
  },
  {
   "cell_type": "code",
   "execution_count": 155,
   "id": "fcb1e4a1-f064-4721-b46b-b27e98e45ca1",
   "metadata": {},
   "outputs": [],
   "source": [
    "train_df, test_df =train_test_split(cities_df, test_size=0.2)"
   ]
  },
  {
   "cell_type": "code",
   "execution_count": 156,
   "id": "1473e4b8-3b44-42b1-998c-f6e68158a9c4",
   "metadata": {},
   "outputs": [],
   "source": [
    "X = cities_df.drop(columns=['country'])\n",
    "\n",
    "y = cities_df['country']"
   ]
  },
  {
   "cell_type": "code",
   "execution_count": 157,
   "id": "8dedb261-82b8-4bb7-bfee-25d29dd0c0b8",
   "metadata": {},
   "outputs": [],
   "source": [
    "X_train, X_test, y_train, y_test= train_test_split(X, y, test_size=0.2, random_state=123)"
   ]
  },
  {
   "cell_type": "code",
   "execution_count": 158,
   "id": "1ae4a9a0-a154-454d-8872-3d66bd65edb8",
   "metadata": {},
   "outputs": [
    {
     "data": {
      "text/html": [
       "<div>\n",
       "<style scoped>\n",
       "    .dataframe tbody tr th:only-of-type {\n",
       "        vertical-align: middle;\n",
       "    }\n",
       "\n",
       "    .dataframe tbody tr th {\n",
       "        vertical-align: top;\n",
       "    }\n",
       "\n",
       "    .dataframe thead th {\n",
       "        text-align: right;\n",
       "    }\n",
       "</style>\n",
       "<table border=\"1\" class=\"dataframe\">\n",
       "  <thead>\n",
       "    <tr style=\"text-align: right;\">\n",
       "      <th></th>\n",
       "      <th>Data portion</th>\n",
       "      <th>Shape</th>\n",
       "    </tr>\n",
       "  </thead>\n",
       "  <tbody>\n",
       "    <tr>\n",
       "      <th>0</th>\n",
       "      <td>X</td>\n",
       "      <td>(209, 2)</td>\n",
       "    </tr>\n",
       "    <tr>\n",
       "      <th>1</th>\n",
       "      <td>y</td>\n",
       "      <td>(209,)</td>\n",
       "    </tr>\n",
       "    <tr>\n",
       "      <th>2</th>\n",
       "      <td>X_train</td>\n",
       "      <td>(167, 2)</td>\n",
       "    </tr>\n",
       "    <tr>\n",
       "      <th>3</th>\n",
       "      <td>y_train</td>\n",
       "      <td>(167,)</td>\n",
       "    </tr>\n",
       "    <tr>\n",
       "      <th>4</th>\n",
       "      <td>X_test</td>\n",
       "      <td>(42, 2)</td>\n",
       "    </tr>\n",
       "    <tr>\n",
       "      <th>5</th>\n",
       "      <td>y_test</td>\n",
       "      <td>(42,)</td>\n",
       "    </tr>\n",
       "  </tbody>\n",
       "</table>\n",
       "</div>"
      ],
      "text/plain": [
       "  Data portion     Shape\n",
       "0            X  (209, 2)\n",
       "1            y    (209,)\n",
       "2      X_train  (167, 2)\n",
       "3      y_train    (167,)\n",
       "4       X_test   (42, 2)\n",
       "5       y_test     (42,)"
      ]
     },
     "execution_count": 158,
     "metadata": {},
     "output_type": "execute_result"
    }
   ],
   "source": [
    "shape_dict2={\"Data portion\":['X','y','X_train','y_train','X_test','y_test'],\n",
    "            'Shape':[X.shape, y.shape,\n",
    "                     X_train.shape, y_train.shape,\n",
    "                     X_test.shape, y_test.shape]}\n",
    "\n",
    "shape_df = pd.DataFrame(shape_dict2)\n",
    "shape_df"
   ]
  },
  {
   "cell_type": "code",
   "execution_count": 159,
   "id": "856db3d1-c25c-4d1a-9b0d-6c29fe3fafd7",
   "metadata": {},
   "outputs": [
    {
     "data": {
      "text/html": [
       "<div>\n",
       "<style scoped>\n",
       "    .dataframe tbody tr th:only-of-type {\n",
       "        vertical-align: middle;\n",
       "    }\n",
       "\n",
       "    .dataframe tbody tr th {\n",
       "        vertical-align: top;\n",
       "    }\n",
       "\n",
       "    .dataframe thead th {\n",
       "        text-align: right;\n",
       "    }\n",
       "</style>\n",
       "<table border=\"1\" class=\"dataframe\">\n",
       "  <thead>\n",
       "    <tr style=\"text-align: right;\">\n",
       "      <th></th>\n",
       "      <th>longitude</th>\n",
       "      <th>latitude</th>\n",
       "    </tr>\n",
       "  </thead>\n",
       "  <tbody>\n",
       "    <tr>\n",
       "      <th>188</th>\n",
       "      <td>-73.2533</td>\n",
       "      <td>45.3057</td>\n",
       "    </tr>\n",
       "  </tbody>\n",
       "</table>\n",
       "</div>"
      ],
      "text/plain": [
       "     longitude  latitude\n",
       "188   -73.2533   45.3057"
      ]
     },
     "execution_count": 159,
     "metadata": {},
     "output_type": "execute_result"
    }
   ],
   "source": [
    "one_city = X_train.sample(1,random_state=44)\n",
    "one_city"
   ]
  },
  {
   "cell_type": "code",
   "execution_count": 160,
   "id": "48d1a183-48df-4878-ae3c-b632c90ea77f",
   "metadata": {},
   "outputs": [
    {
     "data": {
      "text/html": [
       "\n",
       "<div id=\"altair-viz-5d6b154dd4094ca4825b5604bb8c5b99\"></div>\n",
       "<script type=\"text/javascript\">\n",
       "  var VEGA_DEBUG = (typeof VEGA_DEBUG == \"undefined\") ? {} : VEGA_DEBUG;\n",
       "  (function(spec, embedOpt){\n",
       "    let outputDiv = document.currentScript.previousElementSibling;\n",
       "    if (outputDiv.id !== \"altair-viz-5d6b154dd4094ca4825b5604bb8c5b99\") {\n",
       "      outputDiv = document.getElementById(\"altair-viz-5d6b154dd4094ca4825b5604bb8c5b99\");\n",
       "    }\n",
       "    const paths = {\n",
       "      \"vega\": \"https://cdn.jsdelivr.net/npm//vega@5?noext\",\n",
       "      \"vega-lib\": \"https://cdn.jsdelivr.net/npm//vega-lib?noext\",\n",
       "      \"vega-lite\": \"https://cdn.jsdelivr.net/npm//vega-lite@4.17.0?noext\",\n",
       "      \"vega-embed\": \"https://cdn.jsdelivr.net/npm//vega-embed@6?noext\",\n",
       "    };\n",
       "\n",
       "    function maybeLoadScript(lib, version) {\n",
       "      var key = `${lib.replace(\"-\", \"\")}_version`;\n",
       "      return (VEGA_DEBUG[key] == version) ?\n",
       "        Promise.resolve(paths[lib]) :\n",
       "        new Promise(function(resolve, reject) {\n",
       "          var s = document.createElement('script');\n",
       "          document.getElementsByTagName(\"head\")[0].appendChild(s);\n",
       "          s.async = true;\n",
       "          s.onload = () => {\n",
       "            VEGA_DEBUG[key] = version;\n",
       "            return resolve(paths[lib]);\n",
       "          };\n",
       "          s.onerror = () => reject(`Error loading script: ${paths[lib]}`);\n",
       "          s.src = paths[lib];\n",
       "        });\n",
       "    }\n",
       "\n",
       "    function showError(err) {\n",
       "      outputDiv.innerHTML = `<div class=\"error\" style=\"color:red;\">${err}</div>`;\n",
       "      throw err;\n",
       "    }\n",
       "\n",
       "    function displayChart(vegaEmbed) {\n",
       "      vegaEmbed(outputDiv, spec, embedOpt)\n",
       "        .catch(err => showError(`Javascript Error: ${err.message}<br>This usually means there's a typo in your chart specification. See the javascript console for the full traceback.`));\n",
       "    }\n",
       "\n",
       "    if(typeof define === \"function\" && define.amd) {\n",
       "      requirejs.config({paths});\n",
       "      require([\"vega-embed\"], displayChart, err => showError(`Error loading script: ${err.message}`));\n",
       "    } else {\n",
       "      maybeLoadScript(\"vega\", \"5\")\n",
       "        .then(() => maybeLoadScript(\"vega-lite\", \"4.17.0\"))\n",
       "        .then(() => maybeLoadScript(\"vega-embed\", \"6\"))\n",
       "        .catch(showError)\n",
       "        .then(() => displayChart(vegaEmbed));\n",
       "    }\n",
       "  })({\"config\": {\"view\": {\"continuousWidth\": 400, \"continuousHeight\": 300}}, \"data\": {\"name\": \"data-e6ec6adc8b42a2374c0dc8ae7d6a7922\"}, \"mark\": {\"type\": \"circle\", \"opacity\": 0.6, \"size\": 20}, \"encoding\": {\"color\": {\"field\": \"country\", \"scale\": {\"domain\": [\"Canada\", \"USA\"], \"range\": [\"red\", \"blue\"]}, \"type\": \"nominal\"}, \"x\": {\"field\": \"longitude\", \"scale\": {\"domain\": [-140, -40]}, \"type\": \"quantitative\"}, \"y\": {\"field\": \"latitude\", \"scale\": {\"domain\": [20, 60]}, \"type\": \"quantitative\"}}, \"$schema\": \"https://vega.github.io/schema/vega-lite/v4.17.0.json\", \"datasets\": {\"data-e6ec6adc8b42a2374c0dc8ae7d6a7922\": [{\"longitude\": -73.6515, \"latitude\": 45.7081, \"country\": \"Canada\"}, {\"longitude\": -97.1385, \"latitude\": 49.8955, \"country\": \"Canada\"}, {\"longitude\": -69.2275, \"latitude\": 47.4562, \"country\": \"USA\"}, {\"longitude\": -80.1937, \"latitude\": 25.7743, \"country\": \"USA\"}, {\"longitude\": -72.0968, \"latitude\": 45.0072, \"country\": \"Canada\"}, {\"longitude\": -134.4197, \"latitude\": 58.3019, \"country\": \"USA\"}, {\"longitude\": -96.7969, \"latitude\": 32.7763, \"country\": \"USA\"}, {\"longitude\": -97.5533, \"latitude\": 48.7531, \"country\": \"USA\"}, {\"longitude\": -121.9514, \"latitude\": 49.1577, \"country\": \"Canada\"}, {\"longitude\": -73.6289, \"latitude\": 45.468, \"country\": \"Canada\"}, {\"longitude\": -74.8921, \"latitude\": 44.9281, \"country\": \"USA\"}, {\"longitude\": -63.5859, \"latitude\": 44.6486, \"country\": \"Canada\"}, {\"longitude\": -71.7985, \"latitude\": 45.0126, \"country\": \"Canada\"}, {\"longitude\": -79.5656, \"latitude\": 43.6436, \"country\": \"Canada\"}, {\"longitude\": -75.7106, \"latitude\": 45.4284, \"country\": \"Canada\"}, {\"longitude\": -83.0466, \"latitude\": 42.3316, \"country\": \"USA\"}, {\"longitude\": -76.6108, \"latitude\": 39.2909, \"country\": \"USA\"}, {\"longitude\": -79.0546, \"latitude\": 43.1642, \"country\": \"Canada\"}, {\"longitude\": -80.4538, \"latitude\": 42.7972, \"country\": \"Canada\"}, {\"longitude\": -97.2049, \"latitude\": 48.9988, \"country\": \"USA\"}, {\"longitude\": -94.5781, \"latitude\": 39.1001, \"country\": \"USA\"}, {\"longitude\": -74.7287, \"latitude\": 45.0184, \"country\": \"Canada\"}, {\"longitude\": -121.8906, \"latitude\": 37.3362, \"country\": \"USA\"}, {\"longitude\": -87.9225, \"latitude\": 43.035, \"country\": \"USA\"}, {\"longitude\": -75.5192, \"latitude\": 44.7184, \"country\": \"Canada\"}, {\"longitude\": -69.265, \"latitude\": 47.5052, \"country\": \"Canada\"}, {\"longitude\": -112.0741, \"latitude\": 33.4484, \"country\": \"USA\"}, {\"longitude\": -73.7344, \"latitude\": 45.6056, \"country\": \"Canada\"}, {\"longitude\": -113.2966, \"latitude\": 53.5257, \"country\": \"Canada\"}, {\"longitude\": -123.365, \"latitude\": 48.4283, \"country\": \"Canada\"}, {\"longitude\": -95.3677, \"latitude\": 29.7589, \"country\": \"USA\"}, {\"longitude\": -122.3301, \"latitude\": 47.6038, \"country\": \"USA\"}, {\"longitude\": -67.4253, \"latitude\": 45.5672, \"country\": \"Canada\"}, {\"longitude\": -94.6002, \"latitude\": 48.7124, \"country\": \"USA\"}, {\"longitude\": -72.5019, \"latitude\": 45.8864, \"country\": \"Canada\"}, {\"longitude\": -80.2632, \"latitude\": 43.1408, \"country\": \"Canada\"}, {\"longitude\": -83.0007, \"latitude\": 39.9623, \"country\": \"USA\"}, {\"longitude\": -73.4467, \"latitude\": 45.5172, \"country\": \"Canada\"}, {\"longitude\": -78.863, \"latitude\": 43.9177, \"country\": \"Canada\"}, {\"longitude\": -118.2428, \"latitude\": 34.0537, \"country\": \"USA\"}, {\"longitude\": -93.2655, \"latitude\": 44.9773, \"country\": \"USA\"}, {\"longitude\": -82.4405, \"latitude\": 42.9816, \"country\": \"USA\"}, {\"longitude\": -106.6608, \"latitude\": 52.1318, \"country\": \"Canada\"}, {\"longitude\": -79.0359, \"latitude\": 43.1726, \"country\": \"USA\"}, {\"longitude\": -73.4528, \"latitude\": 45.7326, \"country\": \"Canada\"}, {\"longitude\": -119.7848, \"latitude\": 36.7394, \"country\": \"USA\"}, {\"longitude\": -122.9725, \"latitude\": 49.2434, \"country\": \"Canada\"}, {\"longitude\": -71.1753, \"latitude\": 46.791, \"country\": \"Canada\"}, {\"longitude\": -86.7744, \"latitude\": 36.1622, \"country\": \"USA\"}, {\"longitude\": -93.411, \"latitude\": 48.601, \"country\": \"USA\"}, {\"longitude\": -98.4951, \"latitude\": 29.4246, \"country\": \"USA\"}, {\"longitude\": -122.5997, \"latitude\": 49.2197, \"country\": \"Canada\"}, {\"longitude\": -66.9843, \"latitude\": 44.8607, \"country\": \"USA\"}, {\"longitude\": -94.5648, \"latitude\": 48.7227, \"country\": \"Canada\"}, {\"longitude\": -113.508, \"latitude\": 53.5354, \"country\": \"Canada\"}, {\"longitude\": -79.3325, \"latitude\": 43.7, \"country\": \"Canada\"}, {\"longitude\": -78.6391, \"latitude\": 35.7804, \"country\": \"USA\"}, {\"longitude\": -79.2506, \"latitude\": 42.9931, \"country\": \"Canada\"}, {\"longitude\": -93.3968, \"latitude\": 48.6114, \"country\": \"Canada\"}, {\"longitude\": -123.0579, \"latitude\": 49.0846, \"country\": \"Canada\"}, {\"longitude\": -79.7599, \"latitude\": 43.6858, \"country\": \"Canada\"}, {\"longitude\": -68.3219, \"latitude\": 47.3556, \"country\": \"USA\"}, {\"longitude\": -85.7039, \"latitude\": 38.2092, \"country\": \"USA\"}, {\"longitude\": -68.5897, \"latitude\": 47.2587, \"country\": \"USA\"}, {\"longitude\": -80.5246, \"latitude\": 43.4669, \"country\": \"Canada\"}, {\"longitude\": -80.8431, \"latitude\": 35.2272, \"country\": \"USA\"}, {\"longitude\": -68.6034, \"latitude\": 47.2527, \"country\": \"Canada\"}, {\"longitude\": -72.5565, \"latitude\": 46.3327, \"country\": \"Canada\"}, {\"longitude\": -82.4066, \"latitude\": 42.9746, \"country\": \"Canada\"}, {\"longitude\": -104.6173, \"latitude\": 50.4488, \"country\": \"Canada\"}, {\"longitude\": -67.4297, \"latitude\": 45.5634, \"country\": \"USA\"}, {\"longitude\": -71.1473, \"latitude\": 48.382, \"country\": \"Canada\"}, {\"longitude\": -75.4864, \"latitude\": 44.6943, \"country\": \"USA\"}, {\"longitude\": -73.6875, \"latitude\": 45.5089, \"country\": \"Canada\"}, {\"longitude\": -63.572, \"latitude\": 44.68, \"country\": \"Canada\"}, {\"longitude\": -79.4617, \"latitude\": 44.0563, \"country\": \"Canada\"}, {\"longitude\": -67.5735, \"latitude\": 46.1503, \"country\": \"Canada\"}, {\"longitude\": -115.1485, \"latitude\": 36.1673, \"country\": \"USA\"}, {\"longitude\": -111.9639, \"latitude\": 49.0017, \"country\": \"Canada\"}, {\"longitude\": -79.3839, \"latitude\": 43.6535, \"country\": \"Canada\"}, {\"longitude\": -79.8828, \"latitude\": 43.5137, \"country\": \"Canada\"}, {\"longitude\": -79.4608, \"latitude\": 46.3092, \"country\": \"Canada\"}, {\"longitude\": -79.7967, \"latitude\": 43.3249, \"country\": \"Canada\"}, {\"longitude\": -79.6457, \"latitude\": 43.5903, \"country\": \"Canada\"}, {\"longitude\": -78.9186, \"latitude\": 42.9131, \"country\": \"Canada\"}, {\"longitude\": -66.9905, \"latitude\": 44.9065, \"country\": \"USA\"}, {\"longitude\": -79.2441, \"latitude\": 43.158, \"country\": \"Canada\"}, {\"longitude\": -67.9245, \"latitude\": 47.1652, \"country\": \"Canada\"}, {\"longitude\": -123.078, \"latitude\": 48.9854, \"country\": \"USA\"}, {\"longitude\": -104.8253, \"latitude\": 38.834, \"country\": \"USA\"}, {\"longitude\": -120.3394, \"latitude\": 50.6758, \"country\": \"Canada\"}, {\"longitude\": -79.3377, \"latitude\": 43.8564, \"country\": \"Canada\"}, {\"longitude\": -71.889, \"latitude\": 45.4033, \"country\": \"Canada\"}, {\"longitude\": -79.1153, \"latitude\": 43.101, \"country\": \"Canada\"}, {\"longitude\": -122.7979, \"latitude\": 49.0235, \"country\": \"Canada\"}, {\"longitude\": -52.7151, \"latitude\": 47.5617, \"country\": \"Canada\"}, {\"longitude\": -67.9245, \"latitude\": 47.1652, \"country\": \"Canada\"}, {\"longitude\": -84.3593, \"latitude\": 46.4906, \"country\": \"USA\"}, {\"longitude\": -79.6667, \"latitude\": 43.4474, \"country\": \"Canada\"}, {\"longitude\": -84.3902, \"latitude\": 33.7491, \"country\": \"USA\"}, {\"longitude\": -129.9912, \"latitude\": 55.9383, \"country\": \"Canada\"}, {\"longitude\": -75.9774, \"latitude\": 36.853, \"country\": \"USA\"}, {\"longitude\": -110.9748, \"latitude\": 32.2229, \"country\": \"USA\"}, {\"longitude\": -122.7933, \"latitude\": 49.2843, \"country\": \"Canada\"}, {\"longitude\": -72.0885, \"latitude\": 46.0004, \"country\": \"Canada\"}, {\"longitude\": -76.3305, \"latitude\": 44.1255, \"country\": \"USA\"}, {\"longitude\": -112.8516, \"latitude\": 49.6943, \"country\": \"Canada\"}, {\"longitude\": -72.9406, \"latitude\": 45.6275, \"country\": \"Canada\"}, {\"longitude\": -72.1064, \"latitude\": 45.0004, \"country\": \"USA\"}, {\"longitude\": -75.6903, \"latitude\": 45.4211, \"country\": \"Canada\"}, {\"longitude\": -122.4199, \"latitude\": 37.779, \"country\": \"USA\"}, {\"longitude\": -67.8408, \"latitude\": 46.1251, \"country\": \"USA\"}, {\"longitude\": -119.4983, \"latitude\": 49.8893, \"country\": \"Canada\"}, {\"longitude\": -66.9195, \"latitude\": 44.8938, \"country\": \"Canada\"}, {\"longitude\": -97.7437, \"latitude\": 30.2711, \"country\": \"USA\"}, {\"longitude\": -121.4944, \"latitude\": 38.5816, \"country\": \"USA\"}, {\"longitude\": -95.9384, \"latitude\": 41.2587, \"country\": \"USA\"}, {\"longitude\": -89.2598, \"latitude\": 48.4064, \"country\": \"Canada\"}, {\"longitude\": -79.0906, \"latitude\": 43.8358, \"country\": \"Canada\"}, {\"longitude\": -130.0437, \"latitude\": 55.9773, \"country\": \"USA\"}, {\"longitude\": -81.2496, \"latitude\": 42.9837, \"country\": \"Canada\"}, {\"longitude\": -75.1635, \"latitude\": 39.9527, \"country\": \"USA\"}, {\"longitude\": -111.9626, \"latitude\": 48.9971, \"country\": \"USA\"}, {\"longitude\": -123.938, \"latitude\": 49.1638, \"country\": \"Canada\"}, {\"longitude\": -84.3201, \"latitude\": 46.5239, \"country\": \"Canada\"}, {\"longitude\": -81.6557, \"latitude\": 30.3322, \"country\": \"USA\"}, {\"longitude\": -71.7961, \"latitude\": 45.0095, \"country\": \"USA\"}, {\"longitude\": -66.058, \"latitude\": 45.2788, \"country\": \"Canada\"}, {\"longitude\": -123.1374, \"latitude\": 49.1632, \"country\": \"Canada\"}, {\"longitude\": -84.3201, \"latitude\": 46.5239, \"country\": \"Canada\"}, {\"longitude\": -113.8184, \"latitude\": 52.2698, \"country\": \"Canada\"}, {\"longitude\": -122.9109, \"latitude\": 49.2068, \"country\": \"Canada\"}, {\"longitude\": -117.1628, \"latitude\": 32.7174, \"country\": \"USA\"}, {\"longitude\": -79.4109, \"latitude\": 43.7615, \"country\": \"Canada\"}, {\"longitude\": -83.0353, \"latitude\": 42.3171, \"country\": \"Canada\"}, {\"longitude\": -95.9929, \"latitude\": 36.1557, \"country\": \"USA\"}, {\"longitude\": -81.0685, \"latitude\": 46.5815, \"country\": \"Canada\"}, {\"longitude\": -71.0583, \"latitude\": 42.3603, \"country\": \"USA\"}, {\"longitude\": -118.1916, \"latitude\": 33.769, \"country\": \"USA\"}, {\"longitude\": -97.3327, \"latitude\": 32.7532, \"country\": \"USA\"}, {\"longitude\": -90.0516, \"latitude\": 35.149, \"country\": \"USA\"}, {\"longitude\": -66.6458, \"latitude\": 45.9664, \"country\": \"Canada\"}, {\"longitude\": -123.114, \"latitude\": 49.2609, \"country\": \"Canada\"}, {\"longitude\": -67.2781, \"latitude\": 45.189, \"country\": \"USA\"}, {\"longitude\": -75.7887, \"latitude\": 45.3113, \"country\": \"Canada\"}, {\"longitude\": -102.5496, \"latitude\": 48.9959, \"country\": \"USA\"}, {\"longitude\": -67.9353, \"latitude\": 47.1575, \"country\": \"USA\"}, {\"longitude\": -79.7599, \"latitude\": 43.6858, \"country\": \"Canada\"}, {\"longitude\": -122.7436, \"latitude\": 48.9881, \"country\": \"USA\"}, {\"longitude\": -78.3199, \"latitude\": 44.3048, \"country\": \"Canada\"}, {\"longitude\": -111.3885, \"latitude\": 56.7292, \"country\": \"Canada\"}, {\"longitude\": -97.5171, \"latitude\": 35.473, \"country\": \"USA\"}, {\"longitude\": -76.3019, \"latitude\": 44.211, \"country\": \"Canada\"}, {\"longitude\": -71.3998, \"latitude\": 46.8884, \"country\": \"Canada\"}, {\"longitude\": -111.8315, \"latitude\": 33.4151, \"country\": \"USA\"}, {\"longitude\": -114.0626, \"latitude\": 51.0534, \"country\": \"Canada\"}, {\"longitude\": -122.3295, \"latitude\": 49.0521, \"country\": \"Canada\"}, {\"longitude\": -68.3281, \"latitude\": 47.3644, \"country\": \"Canada\"}, {\"longitude\": -97.1056, \"latitude\": 32.7019, \"country\": \"USA\"}, {\"longitude\": -77.0366, \"latitude\": 38.895, \"country\": \"USA\"}, {\"longitude\": -73.6104, \"latitude\": 45.4972, \"country\": \"Canada\"}, {\"longitude\": -97.2089, \"latitude\": 49.0061, \"country\": \"Canada\"}, {\"longitude\": -102.548, \"latitude\": 49.0014, \"country\": \"Canada\"}, {\"longitude\": -118.7148, \"latitude\": 50.4165, \"country\": \"Canada\"}, {\"longitude\": -60.1941, \"latitude\": 46.138, \"country\": \"Canada\"}, {\"longitude\": -123.0833, \"latitude\": 49.0833, \"country\": \"Canada\"}, {\"longitude\": -110.679, \"latitude\": 50.043, \"country\": \"Canada\"}]}}, {\"mode\": \"vega-lite\"});\n",
       "</script>"
      ],
      "text/plain": [
       "alt.Chart(...)"
      ]
     },
     "execution_count": 160,
     "metadata": {},
     "output_type": "execute_result"
    }
   ],
   "source": [
    "chart_cities = alt.Chart(train_df).mark_circle(size=20,opacity=0.6).encode(\n",
    "    alt.X('longitude:Q', scale=alt.Scale(domain=[-140, -40])),\n",
    "    alt.Y('latitude:Q', scale=alt.Scale(domain=[20, 60])),\n",
    "    alt.Color('country:N', scale=alt.Scale(domain=['Canada', 'USA'],\n",
    "                                           range=['red', 'blue'])))\n",
    "chart_cities"
   ]
  },
  {
   "cell_type": "code",
   "execution_count": 161,
   "id": "dcaccb9d-d5ba-4e62-800c-ecb5ff28b491",
   "metadata": {},
   "outputs": [
    {
     "data": {
      "text/plain": [
       "DecisionTreeClassifier(max_depth=4)"
      ]
     },
     "execution_count": 161,
     "metadata": {},
     "output_type": "execute_result"
    }
   ],
   "source": [
    "model = DecisionTreeClassifier(max_depth=4)\n",
    "model.fit(X_train, y_train)"
   ]
  },
  {
   "cell_type": "code",
   "execution_count": 162,
   "id": "4649cdae-8e87-4010-955b-5488324abeae",
   "metadata": {},
   "outputs": [
    {
     "data": {
      "text/plain": [
       "0.9041916167664671"
      ]
     },
     "execution_count": 162,
     "metadata": {},
     "output_type": "execute_result"
    }
   ],
   "source": [
    "model.score(X_train, y_train)"
   ]
  },
  {
   "cell_type": "markdown",
   "id": "39957e21-2c40-4e06-8964-b80db2b5a37b",
   "metadata": {},
   "source": [
    "### cross_val_score & cross_validate"
   ]
  },
  {
   "cell_type": "code",
   "execution_count": 163,
   "id": "d11eb995-14ce-4a57-b09b-5e97b08d21f9",
   "metadata": {},
   "outputs": [
    {
     "data": {
      "text/plain": [
       "array([0.76470588, 0.82352941, 0.78787879, 0.78787879, 0.84848485])"
      ]
     },
     "execution_count": 163,
     "metadata": {},
     "output_type": "execute_result"
    }
   ],
   "source": [
    "dt_cv_score5 = cross_val_score(model, X_train, y_train, cv=5)\n",
    "dt_cv_score5"
   ]
  },
  {
   "cell_type": "code",
   "execution_count": 164,
   "id": "7e8d7929-ca14-45e0-87ff-08863385d4c3",
   "metadata": {},
   "outputs": [
    {
     "data": {
      "text/html": [
       "<div>\n",
       "<style scoped>\n",
       "    .dataframe tbody tr th:only-of-type {\n",
       "        vertical-align: middle;\n",
       "    }\n",
       "\n",
       "    .dataframe tbody tr th {\n",
       "        vertical-align: top;\n",
       "    }\n",
       "\n",
       "    .dataframe thead th {\n",
       "        text-align: right;\n",
       "    }\n",
       "</style>\n",
       "<table border=\"1\" class=\"dataframe\">\n",
       "  <thead>\n",
       "    <tr style=\"text-align: right;\">\n",
       "      <th></th>\n",
       "      <th>0</th>\n",
       "    </tr>\n",
       "  </thead>\n",
       "  <tbody>\n",
       "    <tr>\n",
       "      <th>0</th>\n",
       "      <td>0.764706</td>\n",
       "    </tr>\n",
       "    <tr>\n",
       "      <th>1</th>\n",
       "      <td>0.823529</td>\n",
       "    </tr>\n",
       "    <tr>\n",
       "      <th>2</th>\n",
       "      <td>0.787879</td>\n",
       "    </tr>\n",
       "    <tr>\n",
       "      <th>3</th>\n",
       "      <td>0.787879</td>\n",
       "    </tr>\n",
       "    <tr>\n",
       "      <th>4</th>\n",
       "      <td>0.848485</td>\n",
       "    </tr>\n",
       "  </tbody>\n",
       "</table>\n",
       "</div>"
      ],
      "text/plain": [
       "          0\n",
       "0  0.764706\n",
       "1  0.823529\n",
       "2  0.787879\n",
       "3  0.787879\n",
       "4  0.848485"
      ]
     },
     "execution_count": 164,
     "metadata": {},
     "output_type": "execute_result"
    }
   ],
   "source": [
    "pd.DataFrame(dt_cv_score5)"
   ]
  },
  {
   "cell_type": "code",
   "execution_count": 165,
   "id": "8079a788-9626-4657-8275-d9a66bd00bb9",
   "metadata": {},
   "outputs": [
    {
     "data": {
      "text/plain": [
       "0.8024955436720143"
      ]
     },
     "execution_count": 165,
     "metadata": {},
     "output_type": "execute_result"
    }
   ],
   "source": [
    "dt_cv_score5.mean()"
   ]
  },
  {
   "cell_type": "code",
   "execution_count": 166,
   "id": "495c5ace-b2ee-4b91-a10a-eb2685d4d799",
   "metadata": {},
   "outputs": [
    {
     "data": {
      "text/plain": [
       "array([0.76470588, 0.82352941, 0.70588235, 0.94117647, 0.82352941,\n",
       "       0.82352941, 0.70588235, 0.9375    , 0.9375    , 0.9375    ])"
      ]
     },
     "execution_count": 166,
     "metadata": {},
     "output_type": "execute_result"
    }
   ],
   "source": [
    "cv_score10 = cross_val_score(model, X_train, y_train, cv=10)\n",
    "\n",
    "cv_score10"
   ]
  },
  {
   "cell_type": "code",
   "execution_count": 167,
   "id": "87f52a0d-ddce-4439-80a2-f9f683983e18",
   "metadata": {},
   "outputs": [
    {
     "data": {
      "text/plain": [
       "0.8400735294117647"
      ]
     },
     "execution_count": 167,
     "metadata": {},
     "output_type": "execute_result"
    }
   ],
   "source": [
    "cv_score10.mean()"
   ]
  },
  {
   "cell_type": "code",
   "execution_count": 168,
   "id": "d98cb315-4483-4e88-b304-81bbd0eef3b7",
   "metadata": {},
   "outputs": [
    {
     "data": {
      "text/html": [
       "<div>\n",
       "<style scoped>\n",
       "    .dataframe tbody tr th:only-of-type {\n",
       "        vertical-align: middle;\n",
       "    }\n",
       "\n",
       "    .dataframe tbody tr th {\n",
       "        vertical-align: top;\n",
       "    }\n",
       "\n",
       "    .dataframe thead th {\n",
       "        text-align: right;\n",
       "    }\n",
       "</style>\n",
       "<table border=\"1\" class=\"dataframe\">\n",
       "  <thead>\n",
       "    <tr style=\"text-align: right;\">\n",
       "      <th></th>\n",
       "      <th>0</th>\n",
       "    </tr>\n",
       "  </thead>\n",
       "  <tbody>\n",
       "    <tr>\n",
       "      <th>0</th>\n",
       "      <td>0.764706</td>\n",
       "    </tr>\n",
       "    <tr>\n",
       "      <th>1</th>\n",
       "      <td>0.823529</td>\n",
       "    </tr>\n",
       "    <tr>\n",
       "      <th>2</th>\n",
       "      <td>0.705882</td>\n",
       "    </tr>\n",
       "    <tr>\n",
       "      <th>3</th>\n",
       "      <td>0.941176</td>\n",
       "    </tr>\n",
       "    <tr>\n",
       "      <th>4</th>\n",
       "      <td>0.823529</td>\n",
       "    </tr>\n",
       "    <tr>\n",
       "      <th>5</th>\n",
       "      <td>0.823529</td>\n",
       "    </tr>\n",
       "    <tr>\n",
       "      <th>6</th>\n",
       "      <td>0.705882</td>\n",
       "    </tr>\n",
       "    <tr>\n",
       "      <th>7</th>\n",
       "      <td>0.937500</td>\n",
       "    </tr>\n",
       "    <tr>\n",
       "      <th>8</th>\n",
       "      <td>0.937500</td>\n",
       "    </tr>\n",
       "    <tr>\n",
       "      <th>9</th>\n",
       "      <td>0.937500</td>\n",
       "    </tr>\n",
       "  </tbody>\n",
       "</table>\n",
       "</div>"
      ],
      "text/plain": [
       "          0\n",
       "0  0.764706\n",
       "1  0.823529\n",
       "2  0.705882\n",
       "3  0.941176\n",
       "4  0.823529\n",
       "5  0.823529\n",
       "6  0.705882\n",
       "7  0.937500\n",
       "8  0.937500\n",
       "9  0.937500"
      ]
     },
     "execution_count": 168,
     "metadata": {},
     "output_type": "execute_result"
    }
   ],
   "source": [
    "pd.DataFrame(cv_score10)"
   ]
  },
  {
   "cell_type": "code",
   "execution_count": 169,
   "id": "5f83a7c5-568f-4812-bb9c-4689a2426fd9",
   "metadata": {},
   "outputs": [
    {
     "data": {
      "text/plain": [
       "{'fit_time': array([0.00300908, 0.0009973 , 0.00100112, 0.00100279, 0.00200105,\n",
       "        0.00099826, 0.00200176, 0.00199866, 0.0009973 , 0.00197959]),\n",
       " 'score_time': array([0.00099802, 0.00099778, 0.00100255, 0.0019958 , 0.        ,\n",
       "        0.00100112, 0.0009954 , 0.00099492, 0.00102568, 0.00099635]),\n",
       " 'test_score': array([0.76470588, 0.82352941, 0.70588235, 0.94117647, 0.82352941,\n",
       "        0.82352941, 0.70588235, 0.9375    , 0.9375    , 0.9375    ]),\n",
       " 'train_score': array([0.91333333, 0.90666667, 0.90666667, 0.9       , 0.90666667,\n",
       "        0.91333333, 0.92      , 0.90066225, 0.90066225, 0.90066225])}"
      ]
     },
     "execution_count": 169,
     "metadata": {},
     "output_type": "execute_result"
    }
   ],
   "source": [
    "scores = cross_validate(model, X_train, y_train, cv=10, return_train_score=True)\n",
    "scores"
   ]
  },
  {
   "cell_type": "code",
   "execution_count": 170,
   "id": "e38be882-74b5-4868-adfd-0b1014106d96",
   "metadata": {},
   "outputs": [
    {
     "data": {
      "text/html": [
       "<div>\n",
       "<style scoped>\n",
       "    .dataframe tbody tr th:only-of-type {\n",
       "        vertical-align: middle;\n",
       "    }\n",
       "\n",
       "    .dataframe tbody tr th {\n",
       "        vertical-align: top;\n",
       "    }\n",
       "\n",
       "    .dataframe thead th {\n",
       "        text-align: right;\n",
       "    }\n",
       "</style>\n",
       "<table border=\"1\" class=\"dataframe\">\n",
       "  <thead>\n",
       "    <tr style=\"text-align: right;\">\n",
       "      <th></th>\n",
       "      <th>fit_time</th>\n",
       "      <th>score_time</th>\n",
       "      <th>test_score</th>\n",
       "      <th>train_score</th>\n",
       "    </tr>\n",
       "  </thead>\n",
       "  <tbody>\n",
       "    <tr>\n",
       "      <th>0</th>\n",
       "      <td>0.003009</td>\n",
       "      <td>0.000998</td>\n",
       "      <td>0.764706</td>\n",
       "      <td>0.913333</td>\n",
       "    </tr>\n",
       "    <tr>\n",
       "      <th>1</th>\n",
       "      <td>0.000997</td>\n",
       "      <td>0.000998</td>\n",
       "      <td>0.823529</td>\n",
       "      <td>0.906667</td>\n",
       "    </tr>\n",
       "    <tr>\n",
       "      <th>2</th>\n",
       "      <td>0.001001</td>\n",
       "      <td>0.001003</td>\n",
       "      <td>0.705882</td>\n",
       "      <td>0.906667</td>\n",
       "    </tr>\n",
       "    <tr>\n",
       "      <th>3</th>\n",
       "      <td>0.001003</td>\n",
       "      <td>0.001996</td>\n",
       "      <td>0.941176</td>\n",
       "      <td>0.900000</td>\n",
       "    </tr>\n",
       "    <tr>\n",
       "      <th>4</th>\n",
       "      <td>0.002001</td>\n",
       "      <td>0.000000</td>\n",
       "      <td>0.823529</td>\n",
       "      <td>0.906667</td>\n",
       "    </tr>\n",
       "    <tr>\n",
       "      <th>5</th>\n",
       "      <td>0.000998</td>\n",
       "      <td>0.001001</td>\n",
       "      <td>0.823529</td>\n",
       "      <td>0.913333</td>\n",
       "    </tr>\n",
       "    <tr>\n",
       "      <th>6</th>\n",
       "      <td>0.002002</td>\n",
       "      <td>0.000995</td>\n",
       "      <td>0.705882</td>\n",
       "      <td>0.920000</td>\n",
       "    </tr>\n",
       "    <tr>\n",
       "      <th>7</th>\n",
       "      <td>0.001999</td>\n",
       "      <td>0.000995</td>\n",
       "      <td>0.937500</td>\n",
       "      <td>0.900662</td>\n",
       "    </tr>\n",
       "    <tr>\n",
       "      <th>8</th>\n",
       "      <td>0.000997</td>\n",
       "      <td>0.001026</td>\n",
       "      <td>0.937500</td>\n",
       "      <td>0.900662</td>\n",
       "    </tr>\n",
       "    <tr>\n",
       "      <th>9</th>\n",
       "      <td>0.001980</td>\n",
       "      <td>0.000996</td>\n",
       "      <td>0.937500</td>\n",
       "      <td>0.900662</td>\n",
       "    </tr>\n",
       "  </tbody>\n",
       "</table>\n",
       "</div>"
      ],
      "text/plain": [
       "   fit_time  score_time  test_score  train_score\n",
       "0  0.003009    0.000998    0.764706     0.913333\n",
       "1  0.000997    0.000998    0.823529     0.906667\n",
       "2  0.001001    0.001003    0.705882     0.906667\n",
       "3  0.001003    0.001996    0.941176     0.900000\n",
       "4  0.002001    0.000000    0.823529     0.906667\n",
       "5  0.000998    0.001001    0.823529     0.913333\n",
       "6  0.002002    0.000995    0.705882     0.920000\n",
       "7  0.001999    0.000995    0.937500     0.900662\n",
       "8  0.000997    0.001026    0.937500     0.900662\n",
       "9  0.001980    0.000996    0.937500     0.900662"
      ]
     },
     "execution_count": 170,
     "metadata": {},
     "output_type": "execute_result"
    }
   ],
   "source": [
    "pd.DataFrame(scores)"
   ]
  },
  {
   "cell_type": "code",
   "execution_count": 171,
   "id": "3f2dfd31-db63-4776-b06f-83d8c84a6612",
   "metadata": {},
   "outputs": [
    {
     "data": {
      "text/plain": [
       "fit_time       0.001599\n",
       "score_time     0.001001\n",
       "test_score     0.840074\n",
       "train_score    0.906865\n",
       "dtype: float64"
      ]
     },
     "execution_count": 171,
     "metadata": {},
     "output_type": "execute_result"
    }
   ],
   "source": [
    "pd.DataFrame(scores).mean()"
   ]
  },
  {
   "cell_type": "code",
   "execution_count": 172,
   "id": "ae7c8084-2e8d-474d-a7ce-c91a9d19c5db",
   "metadata": {},
   "outputs": [
    {
     "data": {
      "text/plain": [
       "0.8095238095238095"
      ]
     },
     "execution_count": 172,
     "metadata": {},
     "output_type": "execute_result"
    }
   ],
   "source": [
    "model.score(X_test, y_test)"
   ]
  },
  {
   "cell_type": "markdown",
   "id": "a8c0bd23-9db4-4655-afc0-6b532cc87479",
   "metadata": {},
   "source": [
    "### KNN"
   ]
  },
  {
   "cell_type": "code",
   "execution_count": 173,
   "id": "83a88c57-4cff-47db-aee2-1d48e1d99dad",
   "metadata": {},
   "outputs": [
    {
     "name": "stderr",
     "output_type": "stream",
     "text": [
      "C:\\Users\\sayo9\\anaconda3\\lib\\site-packages\\sklearn\\neighbors\\_classification.py:228: FutureWarning: Unlike other reduction functions (e.g. `skew`, `kurtosis`), the default behavior of `mode` typically preserves the axis it acts along. In SciPy 1.11.0, this behavior will change: the default value of `keepdims` will become False, the `axis` over which the statistic is taken will be eliminated, and the value None will no longer be accepted. Set `keepdims` to True or False to avoid this warning.\n",
      "  mode, _ = stats.mode(_y[neigh_ind, k], axis=1)\n"
     ]
    },
    {
     "data": {
      "text/plain": [
       "array(['Canada'], dtype=object)"
      ]
     },
     "execution_count": 173,
     "metadata": {},
     "output_type": "execute_result"
    }
   ],
   "source": [
    "neigh = KNeighborsClassifier(n_neighbors=1)\n",
    "neigh.fit(X_train, y_train)\n",
    "neigh.predict(one_city)"
   ]
  },
  {
   "cell_type": "code",
   "execution_count": 174,
   "id": "a953220c-2b64-4b35-be03-4179f7694cb3",
   "metadata": {},
   "outputs": [
    {
     "name": "stderr",
     "output_type": "stream",
     "text": [
      "C:\\Users\\sayo9\\anaconda3\\lib\\site-packages\\sklearn\\neighbors\\_classification.py:228: FutureWarning: Unlike other reduction functions (e.g. `skew`, `kurtosis`), the default behavior of `mode` typically preserves the axis it acts along. In SciPy 1.11.0, this behavior will change: the default value of `keepdims` will become False, the `axis` over which the statistic is taken will be eliminated, and the value None will no longer be accepted. Set `keepdims` to True or False to avoid this warning.\n",
      "  mode, _ = stats.mode(_y[neigh_ind, k], axis=1)\n"
     ]
    },
    {
     "data": {
      "text/plain": [
       "array(['Canada'], dtype=object)"
      ]
     },
     "execution_count": 174,
     "metadata": {},
     "output_type": "execute_result"
    }
   ],
   "source": [
    "neigh = KNeighborsClassifier(n_neighbors=3)\n",
    "neigh.fit(X_train, y_train)\n",
    "neigh.predict(one_city)"
   ]
  },
  {
   "cell_type": "code",
   "execution_count": 175,
   "id": "138f55d4-5902-4ca3-ba0b-10844c4b8433",
   "metadata": {},
   "outputs": [
    {
     "name": "stderr",
     "output_type": "stream",
     "text": [
      "C:\\Users\\sayo9\\anaconda3\\lib\\site-packages\\sklearn\\neighbors\\_classification.py:228: FutureWarning: Unlike other reduction functions (e.g. `skew`, `kurtosis`), the default behavior of `mode` typically preserves the axis it acts along. In SciPy 1.11.0, this behavior will change: the default value of `keepdims` will become False, the `axis` over which the statistic is taken will be eliminated, and the value None will no longer be accepted. Set `keepdims` to True or False to avoid this warning.\n",
      "  mode, _ = stats.mode(_y[neigh_ind, k], axis=1)\n"
     ]
    },
    {
     "data": {
      "text/plain": [
       "array(['Canada'], dtype=object)"
      ]
     },
     "execution_count": 175,
     "metadata": {},
     "output_type": "execute_result"
    }
   ],
   "source": [
    "neigh = KNeighborsClassifier(n_neighbors=9)\n",
    "neigh.fit(X_train, y_train)\n",
    "neigh.predict(one_city)"
   ]
  },
  {
   "cell_type": "code",
   "execution_count": 176,
   "id": "6499a1c9-1395-4643-8949-614c1fe5b834",
   "metadata": {},
   "outputs": [
    {
     "data": {
      "text/plain": [
       "KNeighborsClassifier(n_neighbors=1)"
      ]
     },
     "execution_count": 176,
     "metadata": {},
     "output_type": "execute_result"
    }
   ],
   "source": [
    "model = KNeighborsClassifier(n_neighbors=1)\n",
    "model.fit(X_train, y_train)"
   ]
  },
  {
   "cell_type": "code",
   "execution_count": 177,
   "id": "9e37ae9b-b835-4521-b477-12353e14fe9e",
   "metadata": {},
   "outputs": [
    {
     "name": "stderr",
     "output_type": "stream",
     "text": [
      "C:\\Users\\sayo9\\anaconda3\\lib\\site-packages\\sklearn\\neighbors\\_classification.py:228: FutureWarning: Unlike other reduction functions (e.g. `skew`, `kurtosis`), the default behavior of `mode` typically preserves the axis it acts along. In SciPy 1.11.0, this behavior will change: the default value of `keepdims` will become False, the `axis` over which the statistic is taken will be eliminated, and the value None will no longer be accepted. Set `keepdims` to True or False to avoid this warning.\n",
      "  mode, _ = stats.mode(_y[neigh_ind, k], axis=1)\n"
     ]
    },
    {
     "data": {
      "text/plain": [
       "1.0"
      ]
     },
     "execution_count": 177,
     "metadata": {},
     "output_type": "execute_result"
    }
   ],
   "source": [
    "model.score(X_train,y_train)"
   ]
  },
  {
   "cell_type": "code",
   "execution_count": 178,
   "id": "fed60816-3a35-4fe8-a5ad-557afa5f38f0",
   "metadata": {},
   "outputs": [
    {
     "name": "stderr",
     "output_type": "stream",
     "text": [
      "C:\\Users\\sayo9\\anaconda3\\lib\\site-packages\\sklearn\\neighbors\\_classification.py:228: FutureWarning: Unlike other reduction functions (e.g. `skew`, `kurtosis`), the default behavior of `mode` typically preserves the axis it acts along. In SciPy 1.11.0, this behavior will change: the default value of `keepdims` will become False, the `axis` over which the statistic is taken will be eliminated, and the value None will no longer be accepted. Set `keepdims` to True or False to avoid this warning.\n",
      "  mode, _ = stats.mode(_y[neigh_ind, k], axis=1)\n"
     ]
    },
    {
     "data": {
      "text/plain": [
       "0.7142857142857143"
      ]
     },
     "execution_count": 178,
     "metadata": {},
     "output_type": "execute_result"
    }
   ],
   "source": [
    "model.score(X_test,y_test)"
   ]
  },
  {
   "cell_type": "code",
   "execution_count": 179,
   "id": "ed1ad492-3877-4aca-a9bf-87e196119b51",
   "metadata": {},
   "outputs": [
    {
     "data": {
      "text/html": [
       "<div>\n",
       "<style scoped>\n",
       "    .dataframe tbody tr th:only-of-type {\n",
       "        vertical-align: middle;\n",
       "    }\n",
       "\n",
       "    .dataframe tbody tr th {\n",
       "        vertical-align: top;\n",
       "    }\n",
       "\n",
       "    .dataframe thead th {\n",
       "        text-align: right;\n",
       "    }\n",
       "</style>\n",
       "<table border=\"1\" class=\"dataframe\">\n",
       "  <thead>\n",
       "    <tr style=\"text-align: right;\">\n",
       "      <th></th>\n",
       "      <th>longitude</th>\n",
       "      <th>latitude</th>\n",
       "    </tr>\n",
       "  </thead>\n",
       "  <tbody>\n",
       "    <tr>\n",
       "      <th>61</th>\n",
       "      <td>-87.9225</td>\n",
       "      <td>43.0350</td>\n",
       "    </tr>\n",
       "    <tr>\n",
       "      <th>86</th>\n",
       "      <td>-102.5480</td>\n",
       "      <td>49.0014</td>\n",
       "    </tr>\n",
       "  </tbody>\n",
       "</table>\n",
       "</div>"
      ],
      "text/plain": [
       "    longitude  latitude\n",
       "61   -87.9225   43.0350\n",
       "86  -102.5480   49.0014"
      ]
     },
     "execution_count": 179,
     "metadata": {},
     "output_type": "execute_result"
    }
   ],
   "source": [
    "two_cities = X_train.sample(2)\n",
    "two_cities"
   ]
  },
  {
   "cell_type": "code",
   "execution_count": 180,
   "id": "a6fc37f7-986f-49f0-9e01-a27436b518df",
   "metadata": {},
   "outputs": [
    {
     "data": {
      "text/plain": [
       "array([[ 0.        , 15.79566963],\n",
       "       [15.79566963,  0.        ]])"
      ]
     },
     "execution_count": 180,
     "metadata": {},
     "output_type": "execute_result"
    }
   ],
   "source": [
    "euclidean_distances(two_cities)"
   ]
  },
  {
   "cell_type": "markdown",
   "id": "4a45d944-cbe2-443d-bfa1-0b5bd67d14ba",
   "metadata": {},
   "source": []
  },
  {
   "cell_type": "code",
   "execution_count": 181,
   "id": "683eea2b-6a27-4522-b284-6e301418ffff",
   "metadata": {},
   "outputs": [
    {
     "data": {
      "text/plain": [
       "array([[ 0.        , 23.8573571 ,  4.75685081, ..., 13.46426488,\n",
       "        49.54689522, 37.28038511],\n",
       "       [23.8573571 ,  0.        , 28.01738934, ..., 37.13499021,\n",
       "        25.95750982, 13.54130335],\n",
       "       [ 4.75685081, 28.01738934,  0.        , ...,  9.12907261,\n",
       "        53.8803735 , 41.53213679],\n",
       "       ...,\n",
       "       [13.46426488, 37.13499021,  9.12907261, ...,  0.        ,\n",
       "        62.95813108, 50.63570038],\n",
       "       [49.54689522, 25.95750982, 53.8803735 , ..., 62.95813108,\n",
       "         0.        , 12.4413698 ],\n",
       "       [37.28038511, 13.54130335, 41.53213679, ..., 50.63570038,\n",
       "        12.4413698 ,  0.        ]])"
      ]
     },
     "execution_count": 181,
     "metadata": {},
     "output_type": "execute_result"
    }
   ],
   "source": [
    "dists = euclidean_distances(train_df[['latitude','longitude']])\n",
    "dists"
   ]
  },
  {
   "cell_type": "code",
   "execution_count": 182,
   "id": "7bdbc526-59b4-453f-8f61-af86d82fe4ee",
   "metadata": {},
   "outputs": [
    {
     "data": {
      "text/plain": [
       "(167, 167)"
      ]
     },
     "execution_count": 182,
     "metadata": {},
     "output_type": "execute_result"
    }
   ],
   "source": [
    "dists.shape"
   ]
  },
  {
   "cell_type": "code",
   "execution_count": 183,
   "id": "a23efdcd-fb71-4c07-8f3c-07917b0399ab",
   "metadata": {},
   "outputs": [
    {
     "data": {
      "text/html": [
       "<div>\n",
       "<style scoped>\n",
       "    .dataframe tbody tr th:only-of-type {\n",
       "        vertical-align: middle;\n",
       "    }\n",
       "\n",
       "    .dataframe tbody tr th {\n",
       "        vertical-align: top;\n",
       "    }\n",
       "\n",
       "    .dataframe thead th {\n",
       "        text-align: right;\n",
       "    }\n",
       "</style>\n",
       "<table border=\"1\" class=\"dataframe\">\n",
       "  <thead>\n",
       "    <tr style=\"text-align: right;\">\n",
       "      <th></th>\n",
       "      <th>0</th>\n",
       "      <th>1</th>\n",
       "      <th>2</th>\n",
       "      <th>3</th>\n",
       "      <th>4</th>\n",
       "      <th>5</th>\n",
       "    </tr>\n",
       "  </thead>\n",
       "  <tbody>\n",
       "    <tr>\n",
       "      <th>0</th>\n",
       "      <td>0.000000</td>\n",
       "      <td>23.857357</td>\n",
       "      <td>4.756851</td>\n",
       "      <td>20.979913</td>\n",
       "      <td>1.705389</td>\n",
       "      <td>62.059471</td>\n",
       "    </tr>\n",
       "    <tr>\n",
       "      <th>1</th>\n",
       "      <td>23.857357</td>\n",
       "      <td>0.000000</td>\n",
       "      <td>28.017389</td>\n",
       "      <td>29.478103</td>\n",
       "      <td>25.514353</td>\n",
       "      <td>38.217214</td>\n",
       "    </tr>\n",
       "    <tr>\n",
       "      <th>2</th>\n",
       "      <td>4.756851</td>\n",
       "      <td>28.017389</td>\n",
       "      <td>0.000000</td>\n",
       "      <td>24.297373</td>\n",
       "      <td>3.772331</td>\n",
       "      <td>66.088215</td>\n",
       "    </tr>\n",
       "    <tr>\n",
       "      <th>3</th>\n",
       "      <td>20.979913</td>\n",
       "      <td>29.478103</td>\n",
       "      <td>24.297373</td>\n",
       "      <td>0.000000</td>\n",
       "      <td>20.867780</td>\n",
       "      <td>63.233724</td>\n",
       "    </tr>\n",
       "    <tr>\n",
       "      <th>4</th>\n",
       "      <td>1.705389</td>\n",
       "      <td>25.514353</td>\n",
       "      <td>3.772331</td>\n",
       "      <td>20.867780</td>\n",
       "      <td>0.000000</td>\n",
       "      <td>63.725136</td>\n",
       "    </tr>\n",
       "    <tr>\n",
       "      <th>5</th>\n",
       "      <td>62.059471</td>\n",
       "      <td>38.217214</td>\n",
       "      <td>66.088215</td>\n",
       "      <td>63.233724</td>\n",
       "      <td>63.725136</td>\n",
       "      <td>0.000000</td>\n",
       "    </tr>\n",
       "  </tbody>\n",
       "</table>\n",
       "</div>"
      ],
      "text/plain": [
       "           0          1          2          3          4          5\n",
       "0   0.000000  23.857357   4.756851  20.979913   1.705389  62.059471\n",
       "1  23.857357   0.000000  28.017389  29.478103  25.514353  38.217214\n",
       "2   4.756851  28.017389   0.000000  24.297373   3.772331  66.088215\n",
       "3  20.979913  29.478103  24.297373   0.000000  20.867780  63.233724\n",
       "4   1.705389  25.514353   3.772331  20.867780   0.000000  63.725136\n",
       "5  62.059471  38.217214  66.088215  63.233724  63.725136   0.000000"
      ]
     },
     "execution_count": 183,
     "metadata": {},
     "output_type": "execute_result"
    }
   ],
   "source": [
    "pd.DataFrame(dists).loc[:5,:5]"
   ]
  },
  {
   "cell_type": "code",
   "execution_count": 184,
   "id": "5516250d-0e70-41d8-bce1-38c25710929f",
   "metadata": {},
   "outputs": [],
   "source": [
    "np.fill_diagonal(dists, np.inf)"
   ]
  },
  {
   "cell_type": "code",
   "execution_count": 185,
   "id": "fb46f04d-54bd-48a3-b583-cf9bfd8cbe89",
   "metadata": {},
   "outputs": [
    {
     "data": {
      "text/html": [
       "<div>\n",
       "<style scoped>\n",
       "    .dataframe tbody tr th:only-of-type {\n",
       "        vertical-align: middle;\n",
       "    }\n",
       "\n",
       "    .dataframe tbody tr th {\n",
       "        vertical-align: top;\n",
       "    }\n",
       "\n",
       "    .dataframe thead th {\n",
       "        text-align: right;\n",
       "    }\n",
       "</style>\n",
       "<table border=\"1\" class=\"dataframe\">\n",
       "  <thead>\n",
       "    <tr style=\"text-align: right;\">\n",
       "      <th></th>\n",
       "      <th>0</th>\n",
       "      <th>1</th>\n",
       "      <th>2</th>\n",
       "      <th>3</th>\n",
       "      <th>4</th>\n",
       "      <th>5</th>\n",
       "    </tr>\n",
       "  </thead>\n",
       "  <tbody>\n",
       "    <tr>\n",
       "      <th>0</th>\n",
       "      <td>inf</td>\n",
       "      <td>23.857357</td>\n",
       "      <td>4.756851</td>\n",
       "      <td>20.979913</td>\n",
       "      <td>1.705389</td>\n",
       "      <td>62.059471</td>\n",
       "    </tr>\n",
       "    <tr>\n",
       "      <th>1</th>\n",
       "      <td>23.857357</td>\n",
       "      <td>inf</td>\n",
       "      <td>28.017389</td>\n",
       "      <td>29.478103</td>\n",
       "      <td>25.514353</td>\n",
       "      <td>38.217214</td>\n",
       "    </tr>\n",
       "    <tr>\n",
       "      <th>2</th>\n",
       "      <td>4.756851</td>\n",
       "      <td>28.017389</td>\n",
       "      <td>inf</td>\n",
       "      <td>24.297373</td>\n",
       "      <td>3.772331</td>\n",
       "      <td>66.088215</td>\n",
       "    </tr>\n",
       "    <tr>\n",
       "      <th>3</th>\n",
       "      <td>20.979913</td>\n",
       "      <td>29.478103</td>\n",
       "      <td>24.297373</td>\n",
       "      <td>inf</td>\n",
       "      <td>20.867780</td>\n",
       "      <td>63.233724</td>\n",
       "    </tr>\n",
       "    <tr>\n",
       "      <th>4</th>\n",
       "      <td>1.705389</td>\n",
       "      <td>25.514353</td>\n",
       "      <td>3.772331</td>\n",
       "      <td>20.867780</td>\n",
       "      <td>inf</td>\n",
       "      <td>63.725136</td>\n",
       "    </tr>\n",
       "    <tr>\n",
       "      <th>5</th>\n",
       "      <td>62.059471</td>\n",
       "      <td>38.217214</td>\n",
       "      <td>66.088215</td>\n",
       "      <td>63.233724</td>\n",
       "      <td>63.725136</td>\n",
       "      <td>inf</td>\n",
       "    </tr>\n",
       "  </tbody>\n",
       "</table>\n",
       "</div>"
      ],
      "text/plain": [
       "           0          1          2          3          4          5\n",
       "0        inf  23.857357   4.756851  20.979913   1.705389  62.059471\n",
       "1  23.857357        inf  28.017389  29.478103  25.514353  38.217214\n",
       "2   4.756851  28.017389        inf  24.297373   3.772331  66.088215\n",
       "3  20.979913  29.478103  24.297373        inf  20.867780  63.233724\n",
       "4   1.705389  25.514353   3.772331  20.867780        inf  63.725136\n",
       "5  62.059471  38.217214  66.088215  63.233724  63.725136        inf"
      ]
     },
     "execution_count": 185,
     "metadata": {},
     "output_type": "execute_result"
    }
   ],
   "source": [
    "pd.DataFrame(dists).loc[:5,:5]"
   ]
  },
  {
   "cell_type": "markdown",
   "id": "f3fea616-dc7b-4750-b2d6-1183a5f6d986",
   "metadata": {},
   "source": []
  },
  {
   "cell_type": "code",
   "execution_count": 186,
   "id": "5795442d-5816-435b-a781-c255ae490dcc",
   "metadata": {},
   "outputs": [
    {
     "data": {
      "text/plain": [
       "longitude   -76.4813\n",
       "latitude     44.2307\n",
       "Name: 160, dtype: float64"
      ]
     },
     "execution_count": 186,
     "metadata": {},
     "output_type": "execute_result"
    }
   ],
   "source": [
    "X_train.iloc[0]"
   ]
  },
  {
   "cell_type": "code",
   "execution_count": 187,
   "id": "9bde66f3-2f7f-4878-a16e-98769dbdc48a",
   "metadata": {},
   "outputs": [
    {
     "data": {
      "text/plain": [
       "array([        inf, 23.8573571 ,  4.75685081, 20.97991333,  1.70538937])"
      ]
     },
     "execution_count": 187,
     "metadata": {},
     "output_type": "execute_result"
    }
   ],
   "source": [
    "dists[0][:5]"
   ]
  },
  {
   "cell_type": "code",
   "execution_count": 188,
   "id": "88033dbe-cb8a-4c45-8ef0-c47cca2fd8d8",
   "metadata": {},
   "outputs": [
    {
     "data": {
      "text/plain": [
       "array([        inf, 23.8573571 ,  4.75685081, 20.97991333,  1.70538937,\n",
       "       62.05947091, 26.51303439, 24.09498015, 48.42292928,  0.24116129,\n",
       "        1.46543112, 10.12120762,  1.97922441,  6.26408326,  2.07800984,\n",
       "        9.98341907,  7.06667619,  5.97201112,  7.39896101, 23.7821647 ,\n",
       "       21.94511908,  1.27908011, 48.96018258, 14.51919091,  2.11371932,\n",
       "        4.74035343, 40.33108522,  0.13182815, 40.40852415, 49.78786569,\n",
       "       26.94383646, 48.71549832,  6.22779409, 21.16303027,  1.16334477,\n",
       "        7.09264451, 10.97368481,  0.27997473,  5.51046862, 46.0891427 ,\n",
       "       19.62760975,  9.20219122, 33.6285267 ,  5.9515144 ,  0.20020475,\n",
       "       46.99701   , 49.44754177,  2.70263554, 16.22759105, 19.97014548,\n",
       "       29.7044918 , 49.07400144,  6.72083645, 21.12945645, 40.61781897,\n",
       "        6.02546485, 11.11014766,  6.22263174, 19.95760564, 49.52164288,\n",
       "        6.43445785,  5.578431  , 14.19485283,  5.29397578,  7.22927943,\n",
       "       12.71095494,  5.27911951,  1.26061499,  9.17190265, 31.32658625,\n",
       "        6.22348241,  3.66343539,  2.09634168,  0.20242688, 10.13179697,\n",
       "        6.04043602,  6.09406472, 42.57966502, 38.45370977,  6.08948199,\n",
       "        6.60639774,  5.84031572,  6.59113991,  6.35731944,  5.96274831,\n",
       "        6.70905981,  6.14655877,  5.90945593, 49.53503404, 31.92270442,\n",
       "       46.95144353,  5.98010563,  1.78866131,  6.05393102, 49.25810096,\n",
       "       21.01829389,  5.90945593, 10.73635353,  6.42599374, 16.07287649,\n",
       "       57.2609709 ,  9.15546868, 39.68474949, 49.27175371,  1.59009694,\n",
       "        3.1115372 , 39.40225413,  0.71545452,  1.69946265,  2.05890127,\n",
       "       49.40877923,  5.82564361, 46.03706663,  6.78106986, 28.61354696,\n",
       "       48.37075648, 22.72670394, 15.83981855,  5.75233136, 57.31960127,\n",
       "        8.0717705 ,  5.95069518, 38.45202081, 50.4050984 , 10.69974559,\n",
       "       17.33451812,  1.98256176,  7.6056256 , 49.60637071, 10.69974559,\n",
       "       40.69933369, 49.38349309, 45.40915672,  6.07946872,  9.97770432,\n",
       "       24.29787027,  7.46824722,  4.23467249, 46.11249957, 26.9931226 ,\n",
       "       19.50532934,  7.01046014, 49.58993138,  6.39450486,  2.17372355,\n",
       "       29.08452875,  5.89709274,  6.43445785, 49.20155163,  4.87475224,\n",
       "       39.31343046, 25.96775184,  3.04399878,  2.54229443, 40.11022624,\n",
       "       40.76308668, 48.79272507,  5.5751159 , 26.81894937,  7.60770883,\n",
       "        0.21486745, 23.78713725, 29.08356129, 45.30860887, 13.46426488,\n",
       "       49.54689522, 37.28038511])"
      ]
     },
     "execution_count": 188,
     "metadata": {},
     "output_type": "execute_result"
    }
   ],
   "source": [
    "dists[0]"
   ]
  },
  {
   "cell_type": "code",
   "execution_count": 189,
   "id": "c1017e5e-8fec-4a2c-be64-b7dfe94c3f2e",
   "metadata": {},
   "outputs": [
    {
     "data": {
      "text/html": [
       "<div>\n",
       "<style scoped>\n",
       "    .dataframe tbody tr th:only-of-type {\n",
       "        vertical-align: middle;\n",
       "    }\n",
       "\n",
       "    .dataframe tbody tr th {\n",
       "        vertical-align: top;\n",
       "    }\n",
       "\n",
       "    .dataframe thead th {\n",
       "        text-align: right;\n",
       "    }\n",
       "</style>\n",
       "<table border=\"1\" class=\"dataframe\">\n",
       "  <thead>\n",
       "    <tr style=\"text-align: right;\">\n",
       "      <th></th>\n",
       "      <th>0</th>\n",
       "    </tr>\n",
       "  </thead>\n",
       "  <tbody>\n",
       "    <tr>\n",
       "      <th>count</th>\n",
       "      <td>167.000000</td>\n",
       "    </tr>\n",
       "    <tr>\n",
       "      <th>mean</th>\n",
       "      <td>inf</td>\n",
       "    </tr>\n",
       "    <tr>\n",
       "      <th>std</th>\n",
       "      <td>NaN</td>\n",
       "    </tr>\n",
       "    <tr>\n",
       "      <th>min</th>\n",
       "      <td>0.131828</td>\n",
       "    </tr>\n",
       "    <tr>\n",
       "      <th>25%</th>\n",
       "      <td>5.930076</td>\n",
       "    </tr>\n",
       "    <tr>\n",
       "      <th>50%</th>\n",
       "      <td>10.131797</td>\n",
       "    </tr>\n",
       "    <tr>\n",
       "      <th>75%</th>\n",
       "      <td>37.866203</td>\n",
       "    </tr>\n",
       "    <tr>\n",
       "      <th>max</th>\n",
       "      <td>inf</td>\n",
       "    </tr>\n",
       "  </tbody>\n",
       "</table>\n",
       "</div>"
      ],
      "text/plain": [
       "                0\n",
       "count  167.000000\n",
       "mean          inf\n",
       "std           NaN\n",
       "min      0.131828\n",
       "25%      5.930076\n",
       "50%     10.131797\n",
       "75%     37.866203\n",
       "max           inf"
      ]
     },
     "execution_count": 189,
     "metadata": {},
     "output_type": "execute_result"
    }
   ],
   "source": [
    "pd.DataFrame(dists[0]).describe()"
   ]
  },
  {
   "cell_type": "code",
   "execution_count": 190,
   "id": "af71695f-c436-4ce2-8dfe-878a7bb67b1f",
   "metadata": {},
   "outputs": [
    {
     "data": {
      "text/plain": [
       "27"
      ]
     },
     "execution_count": 190,
     "metadata": {},
     "output_type": "execute_result"
    }
   ],
   "source": [
    "np.argmin(dists[0])"
   ]
  },
  {
   "cell_type": "code",
   "execution_count": 191,
   "id": "d79e216d-918c-47e5-9edc-9ad9cd9558e2",
   "metadata": {},
   "outputs": [
    {
     "data": {
      "text/html": [
       "<div>\n",
       "<style scoped>\n",
       "    .dataframe tbody tr th:only-of-type {\n",
       "        vertical-align: middle;\n",
       "    }\n",
       "\n",
       "    .dataframe tbody tr th {\n",
       "        vertical-align: top;\n",
       "    }\n",
       "\n",
       "    .dataframe thead th {\n",
       "        text-align: right;\n",
       "    }\n",
       "</style>\n",
       "<table border=\"1\" class=\"dataframe\">\n",
       "  <thead>\n",
       "    <tr style=\"text-align: right;\">\n",
       "      <th></th>\n",
       "      <th>longitude</th>\n",
       "      <th>latitude</th>\n",
       "    </tr>\n",
       "  </thead>\n",
       "  <tbody>\n",
       "    <tr>\n",
       "      <th>121</th>\n",
       "      <td>-79.8729</td>\n",
       "      <td>43.2561</td>\n",
       "    </tr>\n",
       "  </tbody>\n",
       "</table>\n",
       "</div>"
      ],
      "text/plain": [
       "     longitude  latitude\n",
       "121   -79.8729   43.2561"
      ]
     },
     "execution_count": 191,
     "metadata": {},
     "output_type": "execute_result"
    }
   ],
   "source": [
    "X_train.iloc[[80]]"
   ]
  },
  {
   "cell_type": "code",
   "execution_count": 192,
   "id": "db41be65-a96a-4eb5-a0ed-5af8d88eb753",
   "metadata": {},
   "outputs": [
    {
     "data": {
      "text/plain": [
       "6.606397736285599"
      ]
     },
     "execution_count": 192,
     "metadata": {},
     "output_type": "execute_result"
    }
   ],
   "source": [
    "dists[0][80]"
   ]
  },
  {
   "cell_type": "markdown",
   "id": "edf5e908-1346-44f3-a55e-0098beb489d6",
   "metadata": {},
   "source": [
    "Query point"
   ]
  },
  {
   "cell_type": "code",
   "execution_count": 193,
   "id": "88aba6a8-8402-4bbb-ab33-1ed17f4a1779",
   "metadata": {},
   "outputs": [
    {
     "data": {
      "text/plain": [
       "array([[19.54996348],\n",
       "       [18.02706204],\n",
       "       [24.60912622],\n",
       "       [21.39718237],\n",
       "       [25.24111312]])"
      ]
     },
     "execution_count": 193,
     "metadata": {},
     "output_type": "execute_result"
    }
   ],
   "source": [
    "query_point = [[-80, 25]]\n",
    "dists = euclidean_distances(X_train[['longitude','latitude']], query_point)\n",
    "dists[0:5]"
   ]
  },
  {
   "cell_type": "code",
   "execution_count": 194,
   "id": "0a6bfef9-8aa3-4a82-a330-fc3129aa33a4",
   "metadata": {},
   "outputs": [
    {
     "data": {
      "text/plain": [
       "147"
      ]
     },
     "execution_count": 194,
     "metadata": {},
     "output_type": "execute_result"
    }
   ],
   "source": [
    "np.argmin(dists)"
   ]
  },
  {
   "cell_type": "code",
   "execution_count": 195,
   "id": "6572daeb-cab4-4dc9-91d9-28221c4d00b7",
   "metadata": {},
   "outputs": [
    {
     "data": {
      "text/plain": [
       "array([3.83839229])"
      ]
     },
     "execution_count": 195,
     "metadata": {},
     "output_type": "execute_result"
    }
   ],
   "source": [
    "dists[np.argmin(dists)]"
   ]
  },
  {
   "cell_type": "code",
   "execution_count": 196,
   "id": "a8750c61-347a-44a5-a461-87a4fdd6eb82",
   "metadata": {},
   "outputs": [
    {
     "data": {
      "text/plain": [
       "3.8383922936564634"
      ]
     },
     "execution_count": 196,
     "metadata": {},
     "output_type": "execute_result"
    }
   ],
   "source": [
    "dists[np.argmin(dists)].item()"
   ]
  },
  {
   "cell_type": "code",
   "execution_count": 197,
   "id": "4760bda1-e037-4104-bba6-886a57931fb3",
   "metadata": {},
   "outputs": [
    {
     "data": {
      "text/plain": [
       "3.8383922936564634"
      ]
     },
     "execution_count": 197,
     "metadata": {},
     "output_type": "execute_result"
    }
   ],
   "source": [
    "dists[np.argmin(dists)][0]"
   ]
  },
  {
   "cell_type": "markdown",
   "id": "4088c271-7a7f-4def-9b34-ba60781b3348",
   "metadata": {},
   "source": [
    "### depth "
   ]
  },
  {
   "cell_type": "code",
   "execution_count": 198,
   "id": "a5f1bf81-cefd-4d66-a8a2-476c78f9933d",
   "metadata": {},
   "outputs": [
    {
     "data": {
      "text/plain": [
       "RandomizedSearchCV(estimator=DecisionTreeClassifier(), n_jobs=-1,\n",
       "                   param_distributions={'max_depth': <scipy.stats._distn_infrastructure.rv_continuous_frozen object at 0x0000028CCD69EB80>},\n",
       "                   return_train_score=True)"
      ]
     },
     "execution_count": 198,
     "metadata": {},
     "output_type": "execute_result"
    }
   ],
   "source": [
    "param_grid = {\n",
    "    'max_depth':scipy.stats.uniform(1, 20)}\n",
    "\n",
    "model = DecisionTreeClassifier()\n",
    "\n",
    "gs = RandomizedSearchCV(model, param_grid, n_jobs =-1, return_train_score=True, n_iter=10)\n",
    "gs.fit(X_train, y_train)"
   ]
  },
  {
   "cell_type": "code",
   "execution_count": 199,
   "id": "68e8ae7f-67a7-402b-8855-5b00bc5a190a",
   "metadata": {},
   "outputs": [
    {
     "data": {
      "text/plain": [
       "{'max_depth': 7.069329843278988}"
      ]
     },
     "execution_count": 199,
     "metadata": {},
     "output_type": "execute_result"
    }
   ],
   "source": [
    "gs.best_params_"
   ]
  },
  {
   "cell_type": "code",
   "execution_count": 200,
   "id": "c6f94e2f-a262-4da2-875e-fa0f1de8f30f",
   "metadata": {},
   "outputs": [
    {
     "data": {
      "text/plain": [
       "0.9401197604790419"
      ]
     },
     "execution_count": 200,
     "metadata": {},
     "output_type": "execute_result"
    }
   ],
   "source": [
    "gs.score(X_train, y_train)"
   ]
  },
  {
   "cell_type": "markdown",
   "id": "9e182772-3b52-4a0d-abc5-4b9f9602604e",
   "metadata": {},
   "source": [
    " ### Exhaustive grid search "
   ]
  },
  {
   "cell_type": "code",
   "execution_count": 201,
   "id": "9d7ab16c-4cf4-41f7-8a32-fd973bf974c5",
   "metadata": {},
   "outputs": [
    {
     "name": "stdout",
     "output_type": "stream",
     "text": [
      "Fitting 5 folds for each of 16 candidates, totalling 80 fits\n"
     ]
    },
    {
     "data": {
      "text/plain": [
       "GridSearchCV(estimator=SVC(), n_jobs=-1,\n",
       "             param_grid={'C': [0.1, 1.0, 10, 100],\n",
       "                         'gamma': [0.1, 1.0, 10, 100]},\n",
       "             verbose=1)"
      ]
     },
     "execution_count": 201,
     "metadata": {},
     "output_type": "execute_result"
    }
   ],
   "source": [
    "param_grid = { \n",
    "    'gamma':[0.1, 1.0, 10,100],\n",
    "    'C': [0.1, 1.0, 10,100]\n",
    "}\n",
    "\n",
    "svc = SVC()\n",
    "grid_search = GridSearchCV(svc, param_grid, verbose=1, n_jobs=-1)\n",
    "grid_search.fit(X_train, y_train)"
   ]
  },
  {
   "cell_type": "markdown",
   "id": "a7304e7e-d3b7-48de-997d-5cc40c646429",
   "metadata": {},
   "source": [
    "With Pipeline"
   ]
  },
  {
   "cell_type": "code",
   "execution_count": 202,
   "id": "9a586997-1ae8-4f42-990b-9428858daa44",
   "metadata": {},
   "outputs": [
    {
     "name": "stdout",
     "output_type": "stream",
     "text": [
      "Fitting 5 folds for each of 16 candidates, totalling 80 fits\n"
     ]
    },
    {
     "data": {
      "text/plain": [
       "GridSearchCV(cv=5,\n",
       "             estimator=Pipeline(steps=[('imputer',\n",
       "                                        SimpleImputer(strategy='median')),\n",
       "                                       ('scaler', StandardScaler()),\n",
       "                                       ('svc', SVC())]),\n",
       "             n_jobs=-1,\n",
       "             param_grid={'svc__C': [0.1, 1.0, 10, 100],\n",
       "                         'svc__gamma': [0.1, 1.0, 10, 100]},\n",
       "             return_train_score=True, verbose=1)"
      ]
     },
     "execution_count": 202,
     "metadata": {},
     "output_type": "execute_result"
    }
   ],
   "source": [
    "pipe = Pipeline(\n",
    "    steps=[\n",
    "        (\"imputer\", SimpleImputer(strategy='median')),\n",
    "        (\"scaler\", StandardScaler()),\n",
    "        (\"svc\", SVC())])\n",
    "\n",
    "param_grid = {\n",
    "    \"svc__gamma\": [0.1, 1.0, 10, 100],\n",
    "    \"svc__C\": [0.1, 1.0, 10, 100]\n",
    "}\n",
    "\n",
    "grid_search = GridSearchCV(pipe, param_grid, cv=5, return_train_score=True, verbose=1, n_jobs=-1)\n",
    "grid_search.fit(X_train, y_train)"
   ]
  },
  {
   "cell_type": "code",
   "execution_count": 203,
   "id": "d014b17d-26d6-4cae-acd9-8bb705547adb",
   "metadata": {},
   "outputs": [
    {
     "data": {
      "text/plain": [
       "{'svc__C': 10, 'svc__gamma': 1.0}"
      ]
     },
     "execution_count": 203,
     "metadata": {},
     "output_type": "execute_result"
    }
   ],
   "source": [
    "grid_search.best_params_"
   ]
  },
  {
   "cell_type": "code",
   "execution_count": 204,
   "id": "508feea8-e4c9-443c-b228-1c9ace911952",
   "metadata": {},
   "outputs": [
    {
     "data": {
      "text/plain": [
       "0.8208556149732621"
      ]
     },
     "execution_count": 204,
     "metadata": {},
     "output_type": "execute_result"
    }
   ],
   "source": [
    "grid_search.best_score_"
   ]
  },
  {
   "cell_type": "code",
   "execution_count": 205,
   "id": "f20b2346-5206-4826-8278-3d1bf4c4976f",
   "metadata": {},
   "outputs": [],
   "source": [
    "best_model = grid_search.best_estimator_"
   ]
  },
  {
   "cell_type": "code",
   "execution_count": 206,
   "id": "60f4d6cf-6578-4a1c-8cbb-1b18206764e6",
   "metadata": {},
   "outputs": [
    {
     "data": {
      "text/plain": [
       "0.8333333333333334"
      ]
     },
     "execution_count": 206,
     "metadata": {},
     "output_type": "execute_result"
    }
   ],
   "source": [
    "best_model.score(X_test, y_test)"
   ]
  },
  {
   "cell_type": "code",
   "execution_count": 207,
   "id": "de439acb-c26f-4cce-8e71-dc3b4f2254f2",
   "metadata": {},
   "outputs": [
    {
     "data": {
      "text/plain": [
       "0.8333333333333334"
      ]
     },
     "execution_count": 207,
     "metadata": {},
     "output_type": "execute_result"
    }
   ],
   "source": [
    "grid_search.score(X_test, y_test)"
   ]
  },
  {
   "cell_type": "code",
   "execution_count": 208,
   "id": "1a9de95e-0ac0-4424-a938-b6e9075a2f7b",
   "metadata": {},
   "outputs": [
    {
     "data": {
      "text/plain": [
       "array(['Canada', 'Canada', 'Canada', 'Canada', 'Canada', 'Canada',\n",
       "       'Canada', 'Canada', 'Canada', 'USA', 'USA', 'Canada', 'Canada',\n",
       "       'Canada', 'Canada', 'USA', 'Canada', 'USA', 'Canada', 'Canada',\n",
       "       'Canada', 'Canada', 'Canada', 'Canada', 'Canada', 'Canada',\n",
       "       'Canada', 'Canada', 'Canada', 'Canada', 'Canada', 'USA', 'Canada',\n",
       "       'Canada', 'Canada', 'Canada', 'Canada', 'USA', 'USA', 'Canada',\n",
       "       'Canada', 'Canada'], dtype=object)"
      ]
     },
     "execution_count": 208,
     "metadata": {},
     "output_type": "execute_result"
    }
   ],
   "source": [
    "best_model.predict(X_test)"
   ]
  },
  {
   "cell_type": "code",
   "execution_count": 209,
   "id": "dc664d11-cc94-4079-9dfe-3ec260d38858",
   "metadata": {},
   "outputs": [
    {
     "data": {
      "text/plain": [
       "array(['Canada', 'Canada', 'Canada', 'Canada', 'Canada', 'Canada',\n",
       "       'Canada', 'Canada', 'Canada', 'USA', 'USA', 'Canada', 'Canada',\n",
       "       'Canada', 'Canada', 'USA', 'Canada', 'USA', 'Canada', 'Canada',\n",
       "       'Canada', 'Canada', 'Canada', 'Canada', 'Canada', 'Canada',\n",
       "       'Canada', 'Canada', 'Canada', 'Canada', 'Canada', 'USA', 'Canada',\n",
       "       'Canada', 'Canada', 'Canada', 'Canada', 'USA', 'USA', 'Canada',\n",
       "       'Canada', 'Canada'], dtype=object)"
      ]
     },
     "execution_count": 209,
     "metadata": {},
     "output_type": "execute_result"
    }
   ],
   "source": [
    "grid_search.predict(X_test)"
   ]
  },
  {
   "cell_type": "markdown",
   "id": "45c6ac60-e89f-4669-b0d7-29ac140c0cfb",
   "metadata": {},
   "source": [
    "Randomized Search"
   ]
  },
  {
   "cell_type": "code",
   "execution_count": 210,
   "id": "d420bf4f-bcf4-471e-bb29-191bbb9242b3",
   "metadata": {},
   "outputs": [
    {
     "name": "stdout",
     "output_type": "stream",
     "text": [
      "Fitting 5 folds for each of 10 candidates, totalling 50 fits\n"
     ]
    },
    {
     "data": {
      "text/plain": [
       "RandomizedSearchCV(cv=5,\n",
       "                   estimator=Pipeline(steps=[('imputer',\n",
       "                                              SimpleImputer(strategy='median')),\n",
       "                                             ('scaler', StandardScaler()),\n",
       "                                             ('svc', SVC())]),\n",
       "                   n_jobs=-1,\n",
       "                   param_distributions={'svc__C': [0.1, 1.0, 10, 100],\n",
       "                                        'svc__gamma': [0.1, 1.0, 10, 100]},\n",
       "                   verbose=1)"
      ]
     },
     "execution_count": 210,
     "metadata": {},
     "output_type": "execute_result"
    }
   ],
   "source": [
    "from sklearn.model_selection import RandomizedSearchCV\n",
    "\n",
    "param_grid = {\n",
    "    'svc__gamma':[0.1, 1.0, 10, 100],\n",
    "    'svc__C':[0.1, 1.0, 10, 100]\n",
    "}\n",
    "\n",
    "random_search = RandomizedSearchCV(pipe, param_grid, cv=5, verbose=1, n_jobs=-1, n_iter=10)\n",
    "random_search.fit(X_train, y_train)"
   ]
  },
  {
   "cell_type": "code",
   "execution_count": 211,
   "id": "433690fe-f4b1-4b8f-b5eb-181d79ef18b6",
   "metadata": {},
   "outputs": [
    {
     "data": {
      "text/plain": [
       "0.8095238095238095"
      ]
     },
     "execution_count": 211,
     "metadata": {},
     "output_type": "execute_result"
    }
   ],
   "source": [
    "random_search.score(X_test, y_test)"
   ]
  },
  {
   "cell_type": "markdown",
   "id": "232103ad-5cb8-4f0c-be2c-1801eedfbd01",
   "metadata": {},
   "source": [
    "Search over a range of continuous values "
   ]
  },
  {
   "cell_type": "code",
   "execution_count": 212,
   "id": "5f10d00e-8d1f-4fe4-a9c6-9db21f916f93",
   "metadata": {},
   "outputs": [
    {
     "data": {
      "text/plain": [
       "RandomizedSearchCV(cv=10,\n",
       "                   estimator=Pipeline(steps=[('imputer',\n",
       "                                              SimpleImputer(strategy='median')),\n",
       "                                             ('scaler', StandardScaler()),\n",
       "                                             ('svc', SVC())]),\n",
       "                   n_jobs=-1,\n",
       "                   param_distributions={'svc__C': <scipy.stats._distn_infrastructure.rv_continuous_frozen object at 0x0000028CD4A7BAC0>,\n",
       "                                        'svc__gamma': <scipy.stats._distn_infrastructure.rv_continuous_frozen object at 0x0000028CD4944310>},\n",
       "                   return_train_score=True)"
      ]
     },
     "execution_count": 212,
     "metadata": {},
     "output_type": "execute_result"
    }
   ],
   "source": [
    "import scipy\n",
    "\n",
    "param_grid = {\n",
    "    \"svc__C\": scipy.stats.uniform(0, 100),\n",
    "    \"svc__gamma\": scipy.stats.uniform(0, 100)}\n",
    "\n",
    "random_gs = RandomizedSearchCV(pipe, param_grid, n_jobs=-1, cv=10, return_train_score=True, n_iter=10)\n",
    "random_gs.fit(X_train, y_train)"
   ]
  },
  {
   "cell_type": "code",
   "execution_count": 213,
   "id": "f533bb75-5fd9-4cdc-9ded-dbe1859a6347",
   "metadata": {},
   "outputs": [
    {
     "data": {
      "text/plain": [
       "{'svc__C': 86.00505771632295, 'svc__gamma': 9.633008428390234}"
      ]
     },
     "execution_count": 213,
     "metadata": {},
     "output_type": "execute_result"
    }
   ],
   "source": [
    "random_gs.best_params_"
   ]
  },
  {
   "cell_type": "code",
   "execution_count": 214,
   "id": "dc0b74c5-cb38-4687-b1cc-5570c7303973",
   "metadata": {},
   "outputs": [
    {
     "data": {
      "text/plain": [
       "0.7691176470588236"
      ]
     },
     "execution_count": 214,
     "metadata": {},
     "output_type": "execute_result"
    }
   ],
   "source": [
    "random_gs.best_score_"
   ]
  },
  {
   "cell_type": "code",
   "execution_count": 215,
   "id": "8a07fe8f-fd3b-4479-ab2d-e68e66079c5f",
   "metadata": {},
   "outputs": [
    {
     "data": {
      "text/plain": [
       "0.7380952380952381"
      ]
     },
     "execution_count": 215,
     "metadata": {},
     "output_type": "execute_result"
    }
   ],
   "source": [
    "random_gs.score(X_test, y_test)"
   ]
  },
  {
   "cell_type": "markdown",
   "id": "eb1b63fd-8b6c-4af7-8f5e-5fb5e65410d6",
   "metadata": {},
   "source": [
    "How different do they score?"
   ]
  },
  {
   "cell_type": "code",
   "execution_count": 216,
   "id": "f15a9cda-4001-4299-baf9-97ab005a269f",
   "metadata": {},
   "outputs": [
    {
     "data": {
      "text/plain": [
       "0.8333333333333334"
      ]
     },
     "execution_count": 216,
     "metadata": {},
     "output_type": "execute_result"
    }
   ],
   "source": [
    "grid_search.score(X_test, y_test)"
   ]
  },
  {
   "cell_type": "code",
   "execution_count": 217,
   "id": "988eb274-db57-4c4b-bb9a-85bfa91fa09f",
   "metadata": {},
   "outputs": [
    {
     "data": {
      "text/plain": [
       "0.8095238095238095"
      ]
     },
     "execution_count": 217,
     "metadata": {},
     "output_type": "execute_result"
    }
   ],
   "source": [
    "random_search.score(X_test, y_test)"
   ]
  },
  {
   "cell_type": "code",
   "execution_count": 218,
   "id": "ba4c912e-d7e4-4486-aa78-c052146c28ea",
   "metadata": {},
   "outputs": [
    {
     "data": {
      "text/plain": [
       "0.7380952380952381"
      ]
     },
     "execution_count": 218,
     "metadata": {},
     "output_type": "execute_result"
    }
   ],
   "source": [
    "random_gs.score(X_test, y_test)"
   ]
  },
  {
   "cell_type": "markdown",
   "id": "0c9c197a-7f73-4b64-9dc4-9426d2e03ea9",
   "metadata": {},
   "source": [
    "compare all the test score\n",
    "graph"
   ]
  }
 ],
 "metadata": {
  "kernelspec": {
   "display_name": "Python 3 (ipykernel)",
   "language": "python",
   "name": "python3"
  },
  "language_info": {
   "codemirror_mode": {
    "name": "ipython",
    "version": 3
   },
   "file_extension": ".py",
   "mimetype": "text/x-python",
   "name": "python",
   "nbconvert_exporter": "python",
   "pygments_lexer": "ipython3",
   "version": "3.9.13"
  }
 },
 "nbformat": 4,
 "nbformat_minor": 5
}
